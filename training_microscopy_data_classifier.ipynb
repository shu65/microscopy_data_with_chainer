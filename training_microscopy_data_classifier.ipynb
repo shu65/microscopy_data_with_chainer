{
 "cells": [
  {
   "cell_type": "markdown",
   "metadata": {
    "colab_type": "text",
    "id": "m__IPcRrZY0_"
   },
   "source": [
    "以下の論文と同じデータを活用して、実際の問題に深層学習を適用してみます。\n",
    "\n",
    "Kraus, O. Z., Grys, B. T., Ba, J., Chong, Y., Frey, B. J., Boone, C., & Andrews, B. J. (2017). Automated analysis of high-content microscopy data with deep learning. Molecular Systems Biology, 13(4), 924. https://doi.org/10.15252/msb.20177551\n",
    "\n",
    "この論文では酵母細胞の顕微鏡画像による標的タンパク質の細胞内の局在部位を予測するタスクに取り組んでいます。このnotebookではこの論文のデータを用いて同様のタスクの予測を行うモデルを学習してみます。\n",
    "この論文ではいくつかのデータを扱っていますが、今回は `Chong_*_set.hdf5`のデータを使います。このデータは64x64の2 channelの画像と細胞内のどこに局在しているかを示す19種類のラベルが付いているデータになっています。19種類のラベルは以下の通りです。\n",
    "```\n",
    "'ACTIN', 'BUDNECK', 'BUDTIP', 'CELLPERIPHERY', 'CYTOPLASM', 'ENDOSOME', 'ER', 'GOLGI', 'MITOCHONDRIA', 'NUCLEARPERIPHERY', 'NUCLEI', 'NUCLEOLUS', 'PEROXISOME', 'SPINDLE', 'SPINDLEPOLE', 'VACUOLARMEMBRANE', 'VACUOLE','DEAD','GHOST'\n",
    "```\n",
    "\n",
    "これはMNISTと同じ画像分類（Image Classification）というタスクであるため、MNISTと同様の流れでモデルを学習することができます。"
   ]
  },
  {
   "cell_type": "markdown",
   "metadata": {
    "colab_type": "text",
    "id": "3q8KhhumZY1B"
   },
   "source": [
    "## 環境構築\n",
    "\n",
    "まず環境構築のためColab上で以下のセルを実行してChainer, CuPy, ChainerCV, matplotlibといったPythonパッケージのインストールする。"
   ]
  },
  {
   "cell_type": "code",
   "execution_count": 0,
   "metadata": {
    "colab": {
     "base_uri": "https://localhost:8080/",
     "height": 233
    },
    "colab_type": "code",
    "id": "g3URivHcy3bu",
    "outputId": "32a4e6b7-f0f5-4637-c2f5-8d87926befc9"
   },
   "outputs": [
    {
     "name": "stdout",
     "output_type": "stream",
     "text": [
      "  % Total    % Received % Xferd  Average Speed   Time    Time     Time  Current\n",
      "                                 Dload  Upload   Total   Spent    Left  Speed\n",
      "\r",
      "  0     0    0     0    0     0      0      0 --:--:-- --:--:-- --:--:--     0\r",
      "100  1379  100  1379    0     0   6101      0 --:--:-- --:--:-- --:--:--  6128\n",
      "+ apt -y -q install cuda-libraries-dev-9-2\n",
      "Reading package lists...\n",
      "Building dependency tree...\n",
      "Reading state information...\n",
      "cuda-libraries-dev-9-2 is already the newest version (9.2.148-1).\n",
      "0 upgraded, 0 newly installed, 0 to remove and 13 not upgraded.\n",
      "+ pip install -q cupy-cuda92  chainer \n",
      "+ set +ex\n",
      "Installation succeeded!\n"
     ]
    }
   ],
   "source": [
    "# Install Chainer and CuPy!\n",
    "!curl https://colab.chainer.org/install | sh -"
   ]
  },
  {
   "cell_type": "markdown",
   "metadata": {
    "colab_type": "text",
    "id": "WbUaxl1NZY1J"
   },
   "source": [
    "環境セットアップができたか確認してみます。"
   ]
  },
  {
   "cell_type": "code",
   "execution_count": 0,
   "metadata": {
    "colab": {
     "base_uri": "https://localhost:8080/",
     "height": 251
    },
    "colab_type": "code",
    "id": "ZHTaBpjVZY1K",
    "outputId": "24bd11bd-857c-4604-87ea-ed2c1e762649"
   },
   "outputs": [
    {
     "name": "stdout",
     "output_type": "stream",
     "text": [
      "Platform: Linux-4.14.79+-x86_64-with-Ubuntu-18.04-bionic\n",
      "Chainer: 5.0.0\n",
      "NumPy: 1.14.6\n",
      "CuPy:\n",
      "  CuPy Version          : 5.0.0\n",
      "  CUDA Root             : /usr/local/cuda\n",
      "  CUDA Build Version    : 9020\n",
      "  CUDA Driver Version   : 9020\n",
      "  CUDA Runtime Version  : 9020\n",
      "  cuDNN Build Version   : 7201\n",
      "  cuDNN Version         : 7201\n",
      "  NCCL Build Version    : 2213\n",
      "iDeep: 2.0.0.post3\n"
     ]
    }
   ],
   "source": [
    "import chainer\n",
    "\n",
    "chainer.print_runtime_info()"
   ]
  },
  {
   "cell_type": "markdown",
   "metadata": {
    "colab_type": "text",
    "id": "IRPoQqtcZY1N"
   },
   "source": [
    "次に、データ・セットをダウンロードし、解凍します。"
   ]
  },
  {
   "cell_type": "code",
   "execution_count": 0,
   "metadata": {
    "colab": {
     "base_uri": "https://localhost:8080/",
     "height": 395
    },
    "colab_type": "code",
    "id": "Yyw7PLXx2o-8",
    "outputId": "d773684d-a7e1-4e1d-bec1-23432cc41633"
   },
   "outputs": [
    {
     "name": "stdout",
     "output_type": "stream",
     "text": [
      "--2019-01-11 00:42:27--  http://spidey.ccbr.utoronto.ca/~okraus/DeepLoc_full_datasets.zip\n",
      "Resolving spidey.ccbr.utoronto.ca (spidey.ccbr.utoronto.ca)... 142.150.52.198\n",
      "Connecting to spidey.ccbr.utoronto.ca (spidey.ccbr.utoronto.ca)|142.150.52.198|:80... connected.\n",
      "HTTP request sent, awaiting response... 200 OK\n",
      "Length: 597994029 (570M) [application/zip]\n",
      "Saving to: ‘DeepLoc_full_datasets.zip’\n",
      "\n",
      "DeepLoc_full_datase 100%[===================>] 570.29M  32.8MB/s    in 18s     \n",
      "\n",
      "2019-01-11 00:42:45 (31.8 MB/s) - ‘DeepLoc_full_datasets.zip’ saved [597994029/597994029]\n",
      "\n",
      "Archive:  DeepLoc_full_datasets.zip\n",
      "   creating: datasets/\n",
      "  inflating: datasets/wt2017_test_set.hdf5  \n",
      "  inflating: datasets/wt2017_train_set.hdf5  \n",
      "  inflating: datasets/Schuldiner_train_set.hdf5  \n",
      "  inflating: datasets/Schuldiner_test_set.hdf5  \n",
      "  inflating: datasets/Chong_train_set.hdf5  \n",
      "  inflating: datasets/Chong_valid_set.hdf5  \n",
      "  inflating: datasets/README.TXT     \n",
      "  inflating: datasets/Chong_test_set.hdf5  \n"
     ]
    }
   ],
   "source": [
    "!wget http://spidey.ccbr.utoronto.ca/~okraus/DeepLoc_full_datasets.zip\n",
    "!unzip DeepLoc_full_datasets.zip"
   ]
  },
  {
   "cell_type": "markdown",
   "metadata": {
    "colab_type": "text",
    "id": "L7072CUEZY1S"
   },
   "source": [
    "解凍したデータセットの中身を確認していきます。"
   ]
  },
  {
   "cell_type": "code",
   "execution_count": 0,
   "metadata": {
    "colab": {
     "base_uri": "https://localhost:8080/",
     "height": 71
    },
    "colab_type": "code",
    "id": "wM15hLeS3-zF",
    "outputId": "dd7956dd-d2da-4e53-9aaa-1ffa587aafa2"
   },
   "outputs": [
    {
     "name": "stdout",
     "output_type": "stream",
     "text": [
      "Chong_test_set.hdf5   README.TXT\t\t wt2017_test_set.hdf5\n",
      "Chong_train_set.hdf5  Schuldiner_test_set.hdf5\t wt2017_train_set.hdf5\n",
      "Chong_valid_set.hdf5  Schuldiner_train_set.hdf5\n"
     ]
    }
   ],
   "source": [
    "!ls ./datasets"
   ]
  },
  {
   "cell_type": "markdown",
   "metadata": {
    "colab_type": "text",
    "id": "2SS8LlZ2ZY1X"
   },
   "source": [
    "今回はこのうち `Chong_*_set.hdf5` のファイルを使っていきます。\n",
    "hdf5ファイルなので、どのような構成になっているか開いて確認していきます。"
   ]
  },
  {
   "cell_type": "code",
   "execution_count": 0,
   "metadata": {
    "colab": {
     "base_uri": "https://localhost:8080/",
     "height": 143
    },
    "colab_type": "code",
    "id": "IHlQM9MH7KHF",
    "outputId": "d0357d4c-cf2f-4683-8e04-b48ac888a90d"
   },
   "outputs": [
    {
     "name": "stdout",
     "output_type": "stream",
     "text": [
      "Requirement already satisfied: h5py in /usr/local/lib/python3.6/dist-packages (2.8.0)\n",
      "Requirement already satisfied: six in /usr/local/lib/python3.6/dist-packages (from h5py) (1.11.0)\n",
      "Requirement already satisfied: numpy>=1.7 in /usr/local/lib/python3.6/dist-packages (from h5py) (1.14.6)\n",
      "Index1 <HDF5 dataset \"Index1\": shape (21882, 19), type \"|i1\">\n",
      "Info1 <HDF5 dataset \"Info1\": shape (21882, 317), type \"<f8\">\n",
      "data1 <HDF5 dataset \"data1\": shape (21882, 8192), type \"<f4\">\n",
      "label_names <HDF5 dataset \"label_names\": shape (21882,), type \"|S16\">\n"
     ]
    }
   ],
   "source": [
    "!pip install h5py\n",
    "\n",
    "import h5py\n",
    "\n",
    "with h5py.File('./datasets/Chong_train_set.hdf5','r') as f:\n",
    "    for key in f.keys():\n",
    "        print(key,f[key])"
   ]
  },
  {
   "cell_type": "markdown",
   "metadata": {
    "colab_type": "text",
    "id": "PbSJPVB4ZY1c"
   },
   "source": [
    "配布されているデータセットのREADMEを読むと、`data1` に画像データが、`Index1` にラベル情報がそれぞれ保存されているようです。実際の画像データを取り出してどのようなデータになっているか確認していきます。"
   ]
  },
  {
   "cell_type": "code",
   "execution_count": 0,
   "metadata": {
    "colab": {
     "base_uri": "https://localhost:8080/",
     "height": 35
    },
    "colab_type": "code",
    "id": "-QdfKE6fZY1e",
    "outputId": "ef289f27-72bf-4b00-ee68-25bbdf589ac9"
   },
   "outputs": [
    {
     "name": "stdout",
     "output_type": "stream",
     "text": [
      "data1 shape: (21882, 8192)\n"
     ]
    }
   ],
   "source": [
    "import numpy  as np\n",
    "with h5py.File('./datasets/Chong_train_set.hdf5','r') as f:\n",
    "    data1 = f['data1'][:]\n",
    "    print('data1 shape:', data1.shape)"
   ]
  },
  {
   "cell_type": "markdown",
   "metadata": {
    "colab_type": "text",
    "id": "FfXA9aADZY1i"
   },
   "source": [
    "`data1.shape[0]`がデータ数、`data1.shape[1]`が画像のチャネル数x縦x横を表しています。\n",
    "次に画素の分布がどのようになっているか確認します"
   ]
  },
  {
   "cell_type": "code",
   "execution_count": 0,
   "metadata": {
    "colab": {
     "base_uri": "https://localhost:8080/",
     "height": 363
    },
    "colab_type": "code",
    "id": "OOwMW-ZlWWas",
    "outputId": "e557911e-7f68-4ddf-8a01-f399b2e2d0a3",
    "scrolled": true
   },
   "outputs": [
    {
     "name": "stdout",
     "output_type": "stream",
     "text": [
      "min 0.0\n",
      "max 255.0\n",
      "mean 17.492313\n",
      "median 10.0\n"
     ]
    },
    {
     "data": {
      "image/png": "[encoded data removed]",
      "text/plain": [
       "<matplotlib.figure.Figure at 0x7f2fa9a21898>"
      ]
     },
     "metadata": {
      "tags": []
     },
     "output_type": "display_data"
    }
   ],
   "source": [
    "%matplotlib inline\n",
    "import matplotlib.pyplot as plt\n",
    "\n",
    "a = data1.flatten()\n",
    "print('min', a.min())\n",
    "print('max', a.max())\n",
    "print('mean', a.mean())\n",
    "print('median', np.median(a))\n",
    "\n",
    "plt.hist(data1.flatten(), bins='auto')\n",
    "plt.xlabel('pixel value')\n",
    "plt.ylabel('freq')\n",
    "plt.show()"
   ]
  },
  {
   "cell_type": "markdown",
   "metadata": {
    "colab_type": "text",
    "id": "5x1fhuNRZY1m"
   },
   "source": [
    "次に一つ分の画像データを取り出して、分布を見てみます。画像はチャネル数x縦x横が1次元に潰れている状態であるため、`np.reshape()`によって元に戻します。"
   ]
  },
  {
   "cell_type": "code",
   "execution_count": 0,
   "metadata": {
    "colab": {
     "base_uri": "https://localhost:8080/",
     "height": 937
    },
    "colab_type": "code",
    "id": "IzrArNGVZY1n",
    "outputId": "5c4b6c75-3742-48f0-e4d3-4181cfea6f40"
   },
   "outputs": [
    {
     "name": "stdout",
     "output_type": "stream",
     "text": [
      "channel: 0\n",
      "min [[ 9. 10. 10. ... 37. 36. 24.]\n",
      " [ 6.  7.  9. ... 39. 26. 24.]\n",
      " [ 6.  7.  9. ... 32. 28. 24.]\n",
      " ...\n",
      " [ 7.  6.  8. ...  7.  6.  7.]\n",
      " [ 6.  6.  8. ...  6.  6.  7.]\n",
      " [ 6.  6.  8. ...  5.  6.  6.]]\n",
      "max 62.0\n",
      "mean 12.01416\n",
      "median 9.0\n"
     ]
    },
    {
     "data": {
      "image/png": "[encoded data removed]",
      "text/plain": [
       "<matplotlib.figure.Figure at 0x7f2fa9a21940>"
      ]
     },
     "metadata": {
      "tags": []
     },
     "output_type": "display_data"
    },
    {
     "name": "stdout",
     "output_type": "stream",
     "text": [
      "channel: 1\n",
      "min [[11. 12. 14. ... 26. 19. 22.]\n",
      " [12. 11. 13. ... 24. 22. 20.]\n",
      " [11. 10.  9. ... 25. 23. 22.]\n",
      " ...\n",
      " [ 8.  7.  4. ...  7.  9.  8.]\n",
      " [ 6.  7.  6. ...  6.  7.  7.]\n",
      " [ 6.  7.  6. ...  5.  5.  7.]]\n",
      "max 37.0\n",
      "mean 14.299561\n",
      "median 11.0\n"
     ]
    },
    {
     "data": {
      "image/png": "[encoded data removed]",
      "text/plain": [
       "<matplotlib.figure.Figure at 0x7f2fa916e358>"
      ]
     },
     "metadata": {
      "tags": []
     },
     "output_type": "display_data"
    }
   ],
   "source": [
    "%matplotlib inline\n",
    "import matplotlib.pyplot as plt\n",
    "\n",
    "image= np.reshape(data1[0], (2, 64, 64))\n",
    "for c in range(2):\n",
    "    print('channel:', c)\n",
    "    print('min', image[c])\n",
    "    print('max', image[c].max())\n",
    "    print('mean', image[c].mean())\n",
    "    print('median', np.median(image[c]))\n",
    "\n",
    "    plt.hist(image[c].flatten(), bins='auto')\n",
    "    plt.xlabel('pixel value')\n",
    "    plt.ylabel('freq')\n",
    "    plt.show()"
   ]
  },
  {
   "cell_type": "markdown",
   "metadata": {
    "colab_type": "text",
    "id": "VL7nmE1tZY1s"
   },
   "source": [
    "それでは実際に画像として表示させてみます。まずは各channelを別々に表示します。"
   ]
  },
  {
   "cell_type": "code",
   "execution_count": 0,
   "metadata": {
    "colab": {
     "base_uri": "https://localhost:8080/",
     "height": 520
    },
    "colab_type": "code",
    "id": "6gFHcmt1UAor",
    "outputId": "a646415f-63f2-4d45-c647-a2d844f8f441"
   },
   "outputs": [
    {
     "data": {
      "image/png": "[encoded data removed]",
      "text/plain": [
       "<matplotlib.figure.Figure at 0x7f2ff05c0240>"
      ]
     },
     "metadata": {
      "tags": []
     },
     "output_type": "display_data"
    },
    {
     "data": {
      "image/png": "[encoded data removed]",
      "text/plain": [
       "<matplotlib.figure.Figure at 0x7f2fa6e5b048>"
      ]
     },
     "metadata": {
      "tags": []
     },
     "output_type": "display_data"
    }
   ],
   "source": [
    "%matplotlib inline\n",
    "import matplotlib.pyplot as plt\n",
    "\n",
    "image= np.reshape(data1[0], (2, 64, 64))\n",
    "plt.imshow(image[0, :, :], cmap='gray')\n",
    "plt.show()\n",
    "\n",
    "plt.imshow(image[1, :, :], cmap='gray')\n",
    "plt.show()"
   ]
  },
  {
   "cell_type": "markdown",
   "metadata": {
    "colab_type": "text",
    "id": "yhlRf6PVZY1v"
   },
   "source": [
    "次にRBG画像として表示します。RBG画像に変換するには `(heigh, width, 3)` のようにchannl数が3となる配列に変換します。今回はRとGに対応するchannelしかないため、Bには0を代入して表示します。"
   ]
  },
  {
   "cell_type": "code",
   "execution_count": 0,
   "metadata": {
    "colab": {
     "base_uri": "https://localhost:8080/",
     "height": 269
    },
    "colab_type": "code",
    "id": "8U2VTz5nZY1w",
    "outputId": "b98e4506-4010-4ecd-b7c5-46474fd1a5d0"
   },
   "outputs": [
    {
     "data": {
      "image/png": "[encoded data removed]",
      "text/plain": [
       "<matplotlib.figure.Figure at 0x7f2fa92095f8>"
      ]
     },
     "metadata": {
      "tags": []
     },
     "output_type": "display_data"
    }
   ],
   "source": [
    "rgb_image = np.zeros((64, 64, 3))\n",
    "rgb_image[: , :, 0] = image[0] \n",
    "rgb_image[: , :, 1] = image[1] \n",
    "rgb_image[: , :, 2] = 0\n",
    "\n",
    "rgb_image = rgb_image.astype(np.uint8)\n",
    "plt.imshow(rgb_image)\n",
    "plt.show()"
   ]
  },
  {
   "cell_type": "markdown",
   "metadata": {
    "colab_type": "text",
    "id": "zEbcyWmIZY10"
   },
   "source": [
    "matplotlibはグレー画像は値を`[0, 255]`の範囲になるように自動で補正が入るのですが、RGB画像の場合はそのまま出力されるので暗い画像になっています。"
   ]
  },
  {
   "cell_type": "markdown",
   "metadata": {
    "colab_type": "text",
    "id": "YOVyccI5ZY11"
   },
   "source": [
    "次に対応するラベルのデータについても確認します。ラベル名は `label_names` にも保存されています。まずはこちらを確認してみます。"
   ]
  },
  {
   "cell_type": "code",
   "execution_count": 0,
   "metadata": {
    "colab": {
     "base_uri": "https://localhost:8080/",
     "height": 35
    },
    "colab_type": "code",
    "id": "Wc0WfjYPdRHf",
    "outputId": "d84aef0f-ece8-4556-d1f0-1dbe43446f45"
   },
   "outputs": [
    {
     "data": {
      "text/plain": [
       "b'NUCLEI'"
      ]
     },
     "execution_count": 12,
     "metadata": {
      "tags": []
     },
     "output_type": "execute_result"
    }
   ],
   "source": [
    "import numpy  as np\n",
    "with h5py.File('./datasets/Chong_train_set.hdf5','r') as f:\n",
    "  data1 = f['label_names']\n",
    "  v = data1[0]\n",
    "v"
   ]
  },
  {
   "cell_type": "markdown",
   "metadata": {
    "colab_type": "text",
    "id": "9YG_mkelZY18"
   },
   "source": [
    "このため、先ほどの画像には'NUCLEI'というラベルが付いていることがわかります。\n",
    "次に対応する`Index1`のデータについても確認します。"
   ]
  },
  {
   "cell_type": "code",
   "execution_count": 0,
   "metadata": {
    "colab": {
     "base_uri": "https://localhost:8080/",
     "height": 53
    },
    "colab_type": "code",
    "id": "U6LjEt9wdnKJ",
    "outputId": "4271b155-8bb4-4502-c270-44cd6e01f64c"
   },
   "outputs": [
    {
     "data": {
      "text/plain": [
       "array([0, 0, 0, 0, 0, 0, 0, 0, 0, 0, 1, 0, 0, 0, 0, 0, 0, 0, 0],\n",
       "      dtype=int8)"
      ]
     },
     "execution_count": 13,
     "metadata": {
      "tags": []
     },
     "output_type": "execute_result"
    }
   ],
   "source": [
    "import numpy  as np\n",
    "with h5py.File('./datasets/Chong_train_set.hdf5','r') as f:\n",
    "  data1 = f['Index1']\n",
    "  v = data1[0]\n",
    "v"
   ]
  },
  {
   "cell_type": "markdown",
   "metadata": {
    "colab_type": "text",
    "id": "QquAx-zMZY2A"
   },
   "source": [
    "データを表示させてみるとone hot ベクトルになっていることがわかります。\n",
    "one hotベクトルはカテゴリデータを扱うときに用いられる手法の一つで、ラベルに対応する位置のみ１にし、残りを０にしたベクトルになります。\n",
    "今回の場合では各位置が以下のラベルに対応してます。\n",
    "```\n",
    "'ACTIN', 'BUDNECK', 'BUDTIP', 'CELLPERIPHERY', 'CYTOPLASM', 'ENDOSOME', 'ER', 'GOLGI', 'MITOCHONDRIA', 'NUCLEARPERIPHERY', 'NUCLEI', 'NUCLEOLUS', 'PEROXISOME', 'SPINDLE', 'SPINDLEPOLE', 'VACUOLARMEMBRANE', 'VACUOLE','DEAD','GHOST'\n",
    "```"
   ]
  },
  {
   "cell_type": "markdown",
   "metadata": {
    "colab_type": "text",
    "id": "AqurIDz9ZY2B"
   },
   "source": [
    "'NUCLEI' はone hotベクトルで11番目にあります。このため、11番目が１で、残りは0というベクトルが'NUCLEI'を表すone hot ベクトルとなります。"
   ]
  },
  {
   "cell_type": "markdown",
   "metadata": {
    "colab_type": "text",
    "id": "cDuwcNHiZY2C"
   },
   "source": [
    "次に各ラベルでどれくらいのデータ数があるのかも見ておきます。"
   ]
  },
  {
   "cell_type": "code",
   "execution_count": 0,
   "metadata": {
    "colab": {
     "base_uri": "https://localhost:8080/",
     "height": 359
    },
    "colab_type": "code",
    "id": "gf7lxVMVZY2D",
    "outputId": "cf73df2f-af84-495f-bc5e-5bc2b50ebae3"
   },
   "outputs": [
    {
     "data": {
      "text/plain": [
       "{b'ACTIN': 738,\n",
       " b'BUDNECK': 535,\n",
       " b'BUDTIP': 336,\n",
       " b'CELLPERIPHERY': 423,\n",
       " b'CYTOPLASM': 1500,\n",
       " b'DEAD': 749,\n",
       " b'ENDOSOME': 1500,\n",
       " b'ER': 1500,\n",
       " b'GHOST': 1428,\n",
       " b'GOLGI': 1500,\n",
       " b'MITOCHONDRIA': 1500,\n",
       " b'NUCLEARPERIPHERY': 1500,\n",
       " b'NUCLEI': 1500,\n",
       " b'NUCLEOLUS': 1500,\n",
       " b'PEROXISOME': 988,\n",
       " b'SPINDLE': 185,\n",
       " b'SPINDLEPOLE': 1500,\n",
       " b'VACUOLARMEMBRANE': 1500,\n",
       " b'VACUOLE': 1500}"
      ]
     },
     "execution_count": 14,
     "metadata": {
      "tags": []
     },
     "output_type": "execute_result"
    }
   ],
   "source": [
    "with h5py.File('./datasets/Chong_train_set.hdf5','r') as f:\n",
    "  data1 = f['label_names']\n",
    "  unique, counts = np.unique(data1, return_counts=True)\n",
    "dict(zip(unique, counts))"
   ]
  },
  {
   "cell_type": "markdown",
   "metadata": {
    "colab_type": "text",
    "id": "YDhAWQvTZY2F"
   },
   "source": [
    "ここからわかる通り、多いクラスでは1500データある一方、`BUDTIP`は336です。とりあえず、極端に少ないわけではないので、今回はこのまま学習させていきます。"
   ]
  },
  {
   "cell_type": "markdown",
   "metadata": {
    "colab_type": "text",
    "id": "Ejo8pN4GnxBC"
   },
   "source": [
    "まずはデータを管理する`Dataset`を用意します。`Dataset`は以下の2つの方法で用意します。\n",
    "\n",
    "1. Chainerが標準で用意している`Dataset`classが扱えるデータ形式に変換し、標準の`Dataset`を使う。\n",
    "2. Chainerの`DatasetMixin`classを使い、データの形式に合わせた独自の`Dataset`classを作る。\n",
    "\n",
    "今回は汎用性の高い2つ目の方法を使って`Dataset` を用意します。"
   ]
  },
  {
   "cell_type": "code",
   "execution_count": 0,
   "metadata": {
    "colab": {},
    "colab_type": "code",
    "id": "ZfVV0BAbjXEG"
   },
   "outputs": [],
   "source": [
    "import chainer\n",
    "import numpy as np\n",
    "import h5py\n",
    "\n",
    "class MicroscopyDataset(chainer.dataset.DatasetMixin):\n",
    "  \n",
    "    def __init__(self, h5_path):\n",
    "        self.h5_data = h5py.File(h5_path,'r')\n",
    "        self.label_key = 'Index1'\n",
    "        self.data_key = 'data1'\n",
    "        self.length = self.h5_data[self.data_key].shape[0]\n",
    "        \n",
    "    def __len__(self):\n",
    "        return self.length\n",
    "      \n",
    "    def _get_image(self, i):\n",
    "        img = self.h5_data[self.data_key][i]\n",
    "        img = np.reshape(img, (2, 64, 64))\n",
    "        return img\n",
    "      \n",
    "    def _get_label(self, i):\n",
    "        one_hot_label = self.h5_data[self.label_key][i]\n",
    "        label = one_hot_label.argmax() # labelのidを取得する\n",
    "        return label\n",
    "\n",
    "    def get_example(self, i):\n",
    "        img = self._get_image(i)\n",
    "        label = self._get_label(i)\n",
    "        return img, label"
   ]
  },
  {
   "cell_type": "markdown",
   "metadata": {
    "colab_type": "text",
    "id": "bavCyCOsZY2J"
   },
   "source": [
    "実際にデータが読み込みできているか確認します。"
   ]
  },
  {
   "cell_type": "code",
   "execution_count": 0,
   "metadata": {
    "colab": {
     "base_uri": "https://localhost:8080/",
     "height": 53
    },
    "colab_type": "code",
    "id": "4ICChm8jZY2K",
    "outputId": "60c24271-9709-4d79-8022-4ce5f26de0ad"
   },
   "outputs": [
    {
     "name": "stdout",
     "output_type": "stream",
     "text": [
      "train data size 21882\n",
      "val data size 4491\n"
     ]
    }
   ],
   "source": [
    "train_dataset =  MicroscopyDataset('./datasets/Chong_train_set.hdf5')\n",
    "val_dataset = MicroscopyDataset('./datasets/Chong_valid_set.hdf5')\n",
    "\n",
    "print('train data size', len(train_dataset))\n",
    "print('val data size', len(val_dataset))"
   ]
  },
  {
   "cell_type": "code",
   "execution_count": 0,
   "metadata": {
    "colab": {
     "base_uri": "https://localhost:8080/",
     "height": 305
    },
    "colab_type": "code",
    "id": "jRFYw-4GZY2M",
    "outputId": "9b5339dd-5e84-415b-a1d5-0fce64e43f4e"
   },
   "outputs": [
    {
     "name": "stdout",
     "output_type": "stream",
     "text": [
      "train image[0] [[[ 9. 10. 10. ... 37. 36. 24.]\n",
      "  [ 6.  7.  9. ... 39. 26. 24.]\n",
      "  [ 6.  7.  9. ... 32. 28. 24.]\n",
      "  ...\n",
      "  [ 7.  6.  8. ...  7.  6.  7.]\n",
      "  [ 6.  6.  8. ...  6.  6.  7.]\n",
      "  [ 6.  6.  8. ...  5.  6.  6.]]\n",
      "\n",
      " [[11. 12. 14. ... 26. 19. 22.]\n",
      "  [12. 11. 13. ... 24. 22. 20.]\n",
      "  [11. 10.  9. ... 25. 23. 22.]\n",
      "  ...\n",
      "  [ 8.  7.  4. ...  7.  9.  8.]\n",
      "  [ 6.  7.  6. ...  6.  7.  7.]\n",
      "  [ 6.  7.  6. ...  5.  5.  7.]]]\n",
      "train label[0] 10\n"
     ]
    }
   ],
   "source": [
    "image, label = train_dataset[0]\n",
    "print('train image[0]', image)\n",
    "print('train label[0]', label)"
   ]
  },
  {
   "cell_type": "markdown",
   "metadata": {
    "colab_type": "text",
    "id": "5xKx4WkDZY2Q"
   },
   "source": [
    "次に学習するモデルを用意します。まずはMNISTと同様に３層のMLPを用います。"
   ]
  },
  {
   "cell_type": "code",
   "execution_count": 0,
   "metadata": {
    "colab": {},
    "colab_type": "code",
    "id": "_sZxO9MapAqT"
   },
   "outputs": [],
   "source": [
    "import chainer\n",
    "import chainer.links as L\n",
    "import chainer.functions as F\n",
    "\n",
    "class MLP(chainer.Chain):\n",
    "\n",
    "    def __init__(self, n_mid_units=100, n_out=10):\n",
    "        # パラメータを持つ層の登録\n",
    "        super(MLP, self).__init__()\n",
    "        with self.init_scope():\n",
    "            self.l1=L.Linear(None, n_mid_units)\n",
    "            self.l2=L.Linear(None, n_mid_units)\n",
    "            self.l3=L.Linear(None, n_out)\n",
    "\n",
    "\n",
    "    def __call__(self, x):\n",
    "        # データを受け取った際のforward計算を書く\n",
    "        h1 = F.relu(self.l1(x))\n",
    "        h2 = F.relu(self.l2(h1))\n",
    "        return self.l3(h2)\n",
    "\n",
    "n_classes = 19\n",
    "gpu_id = -1 # change to -1 if not using GPU\n",
    "model = MLP(n_out=n_classes)\n",
    "classifier = L.Classifier(model) # softmx cross entropyをloss関数として使用\n",
    "if gpu_id >= 0:\n",
    "    classifier.to_gpu(gpu_id)"
   ]
  },
  {
   "cell_type": "markdown",
   "metadata": {
    "colab_type": "text",
    "id": "by4jWiDhZY2T"
   },
   "source": [
    "`Dataset`とモデルができたら、あとはMNISTの学習のときと同様に`Trainer`クラスで使うものを用意します。"
   ]
  },
  {
   "cell_type": "code",
   "execution_count": 0,
   "metadata": {
    "colab": {},
    "colab_type": "code",
    "id": "TSjWNKbQo4VY"
   },
   "outputs": [],
   "source": [
    "from chainer import iterators\n",
    "\n",
    "batchsize = 128\n",
    "train_iter = iterators.SerialIterator(train_dataset, batchsize)\n",
    "val_iter = iterators.SerialIterator(val_dataset, batchsize,\n",
    "                                     repeat=False, shuffle=False)"
   ]
  },
  {
   "cell_type": "code",
   "execution_count": 0,
   "metadata": {
    "colab": {
     "base_uri": "https://localhost:8080/",
     "height": 34
    },
    "colab_type": "code",
    "id": "4lDnmz2lpk1l",
    "outputId": "06745f03-4d1e-4f6a-bd89-84ce64b2123c"
   },
   "outputs": [
    {
     "data": {
      "text/plain": [
       "<chainer.optimizers.adam.Adam at 0x7f2fa4218b70>"
      ]
     },
     "execution_count": 20,
     "metadata": {
      "tags": []
     },
     "output_type": "execute_result"
    }
   ],
   "source": [
    "from chainer import optimizers\n",
    "\n",
    "optimizer = optimizers.Adam()\n",
    "optimizer.setup(classifier)"
   ]
  },
  {
   "cell_type": "code",
   "execution_count": 0,
   "metadata": {
    "colab": {
     "base_uri": "https://localhost:8080/",
     "height": 2764
    },
    "colab_type": "code",
    "id": "EPp8JWt_prUb",
    "outputId": "03e436ef-6e37-4623-cfcf-d6a07e6f7145"
   },
   "outputs": [
    {
     "name": "stdout",
     "output_type": "stream",
     "text": [
      "epoch       main/loss   validation/main/loss  main/accuracy  validation/main/accuracy  elapsed_time  lr        \n",
      "\u001b[J     total [#.................................................]  2.92%\n",
      "this epoch [#############################.....................] 58.50%\n",
      "       100 iter, 0 epoch / 20 epochs\n",
      "       inf iters/sec. Estimated time to finish: 0:00:00.\n",
      "\u001b[4A\u001b[J1           10.7601     3.00914               0.202166       0.26235                   29.1707                   \n",
      "\u001b[J     total [##................................................]  5.85%\n",
      "this epoch [########..........................................] 16.99%\n",
      "       200 iter, 1 epoch / 20 epochs\n",
      "    5.2606 iters/sec. Estimated time to finish: 0:10:11.923258.\n",
      "\u001b[4A\u001b[J     total [####..............................................]  8.77%\n",
      "this epoch [#####################################.............] 75.49%\n",
      "       300 iter, 1 epoch / 20 epochs\n",
      "    5.9487 iters/sec. Estimated time to finish: 0:08:44.327783.\n",
      "\u001b[4A\u001b[J2           3.03524     2.83149               0.279697       0.253176                  58.4472                   \n",
      "\u001b[J     total [#####.............................................] 11.70%\n",
      "this epoch [################..................................] 33.98%\n",
      "       400 iter, 2 epoch / 20 epochs\n",
      "    5.7048 iters/sec. Estimated time to finish: 0:08:49.210080.\n",
      "\u001b[4A\u001b[J     total [#######...........................................] 14.62%\n",
      "this epoch [##############################################....] 92.48%\n",
      "       500 iter, 2 epoch / 20 epochs\n",
      "    5.9477 iters/sec. Estimated time to finish: 0:08:10.784804.\n",
      "\u001b[4A\u001b[J3           2.58811     2.31618               0.306287       0.305832                  87.8804                   \n",
      "\u001b[J     total [########..........................................] 17.55%\n",
      "this epoch [#########################.........................] 50.97%\n",
      "       600 iter, 3 epoch / 20 epochs\n",
      "    5.8044 iters/sec. Estimated time to finish: 0:08:05.676698.\n",
      "\u001b[4A\u001b[J4           2.21023     2.09613               0.343841       0.342586                  117.118                   \n",
      "\u001b[J     total [##########........................................] 20.47%\n",
      "this epoch [####..............................................]  9.47%\n",
      "       700 iter, 4 epoch / 20 epochs\n",
      "    5.7113 iters/sec. Estimated time to finish: 0:07:56.085660.\n",
      "\u001b[4A\u001b[J     total [###########.......................................] 23.40%\n",
      "this epoch [#################################.................] 67.96%\n",
      "       800 iter, 4 epoch / 20 epochs\n",
      "    5.7559 iters/sec. Estimated time to finish: 0:07:35.023149.\n",
      "\u001b[4A\u001b[J5           2.11339     2.16294               0.350329       0.318853                  150.447                   \n",
      "\u001b[J     total [#############.....................................] 26.32%\n",
      "this epoch [#############.....................................] 26.46%\n",
      "       900 iter, 5 epoch / 20 epochs\n",
      "    5.5517 iters/sec. Estimated time to finish: 0:07:33.744872.\n",
      "\u001b[4A\u001b[J     total [##############....................................] 29.25%\n",
      "this epoch [##########################################........] 84.96%\n",
      "      1000 iter, 5 epoch / 20 epochs\n",
      "    5.6029 iters/sec. Estimated time to finish: 0:07:11.752690.\n",
      "\u001b[4A\u001b[J6           1.98547     2.11621               0.372624       0.310527                  183.591                   \n",
      "\u001b[J     total [################..................................] 32.17%\n",
      "this epoch [#####################.............................] 43.45%\n",
      "      1100 iter, 6 epoch / 20 epochs\n",
      "    5.5172 iters/sec. Estimated time to finish: 0:07:00.336334.\n",
      "\u001b[4A\u001b[J7           1.9422      1.9357                0.378975       0.360006                  215.823                   \n",
      "\u001b[J     total [#################.................................] 35.10%\n",
      "this epoch [..................................................]  1.95%\n",
      "      1200 iter, 7 epoch / 20 epochs\n",
      "    5.4478 iters/sec. Estimated time to finish: 0:06:47.330734.\n",
      "\u001b[4A\u001b[J     total [###################...............................] 38.02%\n",
      "this epoch [##############################....................] 60.44%\n",
      "      1300 iter, 7 epoch / 20 epochs\n",
      "    5.4999 iters/sec. Estimated time to finish: 0:06:25.292160.\n",
      "\u001b[4A\u001b[J8           1.90443     1.98507               0.386148       0.363557                  247.999                   \n",
      "\u001b[J     total [####################..............................] 40.95%\n",
      "this epoch [#########.........................................] 18.94%\n",
      "      1400 iter, 8 epoch / 20 epochs\n",
      "     5.443 iters/sec. Estimated time to finish: 0:06:10.945068.\n",
      "\u001b[4A\u001b[J     total [#####################.............................] 43.87%\n",
      "this epoch [######################################............] 77.43%\n",
      "      1500 iter, 8 epoch / 20 epochs\n",
      "    5.4871 iters/sec. Estimated time to finish: 0:05:49.738720.\n",
      "\u001b[4A\u001b[J9           1.8842      1.93621               0.391128       0.387843                  280.255                   \n",
      "\u001b[J     total [#######################...........................] 46.80%\n",
      "this epoch [#################.................................] 35.93%\n",
      "      1600 iter, 9 epoch / 20 epochs\n",
      "    5.4355 iters/sec. Estimated time to finish: 0:05:34.664351.\n",
      "\u001b[4A\u001b[J     total [########################..........................] 49.72%\n",
      "this epoch [###############################################...] 94.42%\n",
      "      1700 iter, 9 epoch / 20 epochs\n",
      "    5.4733 iters/sec. Estimated time to finish: 0:05:14.084267.\n",
      "\u001b[4A\u001b[J10          1.80891     2.05569               0.407849       0.343809                  312.718                   \n",
      "\u001b[J     total [##########################........................] 52.65%\n",
      "this epoch [##########################........................] 52.92%\n",
      "      1800 iter, 10 epoch / 20 epochs\n",
      "     5.433 iters/sec. Estimated time to finish: 0:04:58.003654.\n",
      "\u001b[4A\u001b[J11          1.80155     2.04354               0.410453       0.37571                   344.793                   \n",
      "\u001b[J     total [###########################.......................] 55.57%\n",
      "this epoch [#####.............................................] 11.42%\n",
      "      1900 iter, 11 epoch / 20 epochs\n",
      "    5.3979 iters/sec. Estimated time to finish: 0:04:41.416222.\n",
      "\u001b[4A\u001b[J     total [#############################.....................] 58.50%\n",
      "this epoch [##################################................] 69.91%\n",
      "      2000 iter, 11 epoch / 20 epochs\n",
      "    5.4334 iters/sec. Estimated time to finish: 0:04:21.175732.\n",
      "\u001b[4A\u001b[J12          1.83192     2.07936               0.403692       0.32195                   376.814                   \n",
      "\u001b[J     total [##############################....................] 61.42%\n",
      "this epoch [##############....................................] 28.41%\n",
      "      2100 iter, 12 epoch / 20 epochs\n",
      "    5.4023 iters/sec. Estimated time to finish: 0:04:04.165115.\n",
      "\u001b[4A\u001b[J     total [################################..................] 64.35%\n",
      "this epoch [###########################################.......] 86.90%\n",
      "      2200 iter, 12 epoch / 20 epochs\n",
      "    5.4299 iters/sec. Estimated time to finish: 0:03:44.510262.\n",
      "\u001b[4A\u001b[J13          1.77459     2.03067               0.413423       0.346907                  409.377                   \n",
      "\u001b[J     total [#################################.................] 67.27%\n",
      "this epoch [######################............................] 45.40%\n",
      "      2300 iter, 13 epoch / 20 epochs\n",
      "    5.3919 iters/sec. Estimated time to finish: 0:03:27.544369.\n",
      "\u001b[4A\u001b[J14          1.77401     1.93697               0.413788       0.37281                   442.472                   \n",
      "\u001b[J     total [###################################...............] 70.19%\n",
      "this epoch [#.................................................]  3.89%\n",
      "      2400 iter, 14 epoch / 20 epochs\n",
      "    5.3605 iters/sec. Estimated time to finish: 0:03:10.104159.\n",
      "\u001b[4A\u001b[J     total [####################################..............] 73.12%\n",
      "this epoch [###############################...................] 62.39%\n",
      "      2500 iter, 14 epoch / 20 epochs\n",
      "    5.3851 iters/sec. Estimated time to finish: 0:02:50.668373.\n",
      "\u001b[4A\u001b[J15          1.75195     1.88938               0.417124       0.391177                  475.24                    \n",
      "\u001b[J     total [######################################............] 76.04%\n",
      "this epoch [##########........................................] 20.88%\n",
      "      2600 iter, 15 epoch / 20 epochs\n",
      "    5.3578 iters/sec. Estimated time to finish: 0:02:32.872896.\n",
      "\u001b[4A\u001b[J     total [#######################################...........] 78.97%\n",
      "this epoch [#######################################...........] 79.38%\n",
      "      2700 iter, 15 epoch / 20 epochs\n",
      "    5.3823 iters/sec. Estimated time to finish: 0:02:13.598162.\n",
      "\u001b[4A\u001b[J16          1.73961     1.96998               0.430921       0.377289                  507.779                   \n",
      "\u001b[J     total [########################################..........] 81.89%\n",
      "this epoch [##################................................] 37.88%\n",
      "      2800 iter, 16 epoch / 20 epochs\n",
      "    5.3579 iters/sec. Estimated time to finish: 0:01:55.542702.\n",
      "\u001b[4A\u001b[J     total [##########################################........] 84.82%\n",
      "this epoch [################################################..] 96.37%\n",
      "      2900 iter, 16 epoch / 20 epochs\n",
      "    5.3808 iters/sec. Estimated time to finish: 0:01:36.465965.\n",
      "\u001b[4A\u001b[J17          1.74155     2.01354               0.428911       0.375829                  540.274                   \n",
      "\u001b[J     total [###########################################.......] 87.74%\n",
      "this epoch [###########################.......................] 54.87%\n",
      "      3000 iter, 17 epoch / 20 epochs\n",
      "    5.3584 iters/sec. Estimated time to finish: 0:01:18.206367.\n",
      "\u001b[4A\u001b[J18          1.68159     1.90861               0.438003       0.384095                  572.746                   \n",
      "\u001b[J     total [#############################################.....] 90.67%\n",
      "this epoch [######............................................] 13.36%\n",
      "      3100 iter, 18 epoch / 20 epochs\n",
      "    5.3386 iters/sec. Estimated time to finish: 0:00:59.765230.\n",
      "\u001b[4A\u001b[J     total [##############################################....] 93.59%\n",
      "this epoch [###################################...............] 71.86%\n",
      "      3200 iter, 18 epoch / 20 epochs\n",
      "    5.3595 iters/sec. Estimated time to finish: 0:00:40.873616.\n",
      "\u001b[4A\u001b[J19          1.7247      1.77638               0.437363       0.435665                  605.195                   \n",
      "\u001b[J     total [################################################..] 96.52%\n",
      "this epoch [###############...................................] 30.35%\n",
      "      3300 iter, 19 epoch / 20 epochs\n",
      "    5.3404 iters/sec. Estimated time to finish: 0:00:22.294641.\n",
      "\u001b[4A\u001b[J     total [#################################################.] 99.44%\n",
      "this epoch [############################################......] 88.85%\n",
      "      3400 iter, 19 epoch / 20 epochs\n",
      "    5.3606 iters/sec. Estimated time to finish: 0:00:03.556028.\n",
      "\u001b[4A\u001b[J20          1.64707     1.89445               0.452897       0.412603                  637.626                   \n",
      "\u001b[J"
     ]
    }
   ],
   "source": [
    "from chainer import training\n",
    "from chainer.training import extensions\n",
    "\n",
    "# Set up a trainer\n",
    "updater = training.updaters.StandardUpdater(\n",
    "    train_iter, optimizer, device=gpu_id)\n",
    "trainer = training.Trainer(updater, (20, 'epoch'), out='result')\n",
    "\n",
    "# Evaluate the model with the test dataset for each epoch\n",
    "trainer.extend(extensions.Evaluator(val_iter, classifier, device=gpu_id))\n",
    "\n",
    "# Dump a computational graph from 'loss' variable at the first iteration\n",
    "# The \"main\" refers to the target link of the \"main\" optimizer.\n",
    "trainer.extend(extensions.dump_graph('main/loss'))\n",
    "\n",
    "# Write a log of evaluation statistics for each epoch\n",
    "trainer.extend(extensions.LogReport())\n",
    "\n",
    "# Save two plot images to the result dir\n",
    "trainer.extend(extensions.PlotReport(['main/loss', 'validation/main/loss'], 'epoch', file_name='loss.png'))\n",
    "trainer.extend(extensions.PlotReport(['main/accuracy', 'validation/main/accuracy'], 'epoch', file_name='accuracy.png'))\n",
    "\n",
    "# Print selected entries of the log to stdout\n",
    "# Here \"main\" refers to the target link of the \"main\" optimizer again, and\n",
    "# \"validation\" refers to the default name of the Evaluator extension.\n",
    "# Entries other than 'epoch' are reported by the Classifier link, called by\n",
    "# either the updater or the evaluator.\n",
    "trainer.extend(extensions.PrintReport(\n",
    "    ['epoch', 'main/loss', 'validation/main/loss',\n",
    "     'main/accuracy', 'validation/main/accuracy', 'elapsed_time', 'lr']))\n",
    "\n",
    "# Print a progress bar to stdout\n",
    "trainer.extend(extensions.ProgressBar())\n",
    "\n",
    "# Run the training\n",
    "trainer.run()"
   ]
  },
  {
   "cell_type": "markdown",
   "metadata": {
    "colab_type": "text",
    "id": "X6lDSn6HZY2i"
   },
   "source": [
    "学習したモデルがどのような構造になっているのか確認します。"
   ]
  },
  {
   "cell_type": "code",
   "execution_count": 0,
   "metadata": {
    "colab": {},
    "colab_type": "code",
    "id": "Tgg52JrnZY2k"
   },
   "outputs": [],
   "source": [
    "!dot -Tpng result/cg.dot -o result/cg.png"
   ]
  },
  {
   "cell_type": "code",
   "execution_count": 0,
   "metadata": {
    "colab": {
     "base_uri": "https://localhost:8080/",
     "height": 1236
    },
    "colab_type": "code",
    "id": "mr51hP2bZY2m",
    "outputId": "bace7c87-f5e9-420f-e085-88ed0206630a"
   },
   "outputs": [
    {
     "data": {
      "image/png": "[encoded data removed]",
      "text/plain": [
       "<IPython.core.display.Image object>"
      ]
     },
     "execution_count": 23,
     "metadata": {
      "tags": []
     },
     "output_type": "execute_result"
    }
   ],
   "source": [
    "from IPython.display import Image\n",
    "Image(filename='result/cg.png')"
   ]
  },
  {
   "cell_type": "markdown",
   "metadata": {
    "colab_type": "text",
    "id": "IlKUJ5MgZY2p"
   },
   "source": [
    "また、logで出ていたlossとaccuracyがどのように変化していたのか、グラフでも確認します"
   ]
  },
  {
   "cell_type": "code",
   "execution_count": 0,
   "metadata": {
    "colab": {
     "base_uri": "https://localhost:8080/",
     "height": 279
    },
    "colab_type": "code",
    "id": "s0kToEmmZY2p",
    "outputId": "22788718-2ca3-4020-fa73-0edc080ce27c"
   },
   "outputs": [
    {
     "data": {
      "image/png": "[encoded data removed]",
      "text/plain": [
       "<IPython.core.display.Image object>"
      ]
     },
     "execution_count": 24,
     "metadata": {
      "tags": []
     },
     "output_type": "execute_result"
    }
   ],
   "source": [
    "from IPython.display import Image\n",
    "Image(filename='result/loss.png')"
   ]
  },
  {
   "cell_type": "code",
   "execution_count": 0,
   "metadata": {
    "colab": {
     "base_uri": "https://localhost:8080/",
     "height": 279
    },
    "colab_type": "code",
    "id": "jFeh3pjAZY2r",
    "outputId": "7bc4817a-7428-42b8-e851-5d0ac57682d6"
   },
   "outputs": [
    {
     "data": {
      "image/png": "[encoded data removed]",
      "text/plain": [
       "<IPython.core.display.Image object>"
      ]
     },
     "execution_count": 25,
     "metadata": {
      "tags": []
     },
     "output_type": "execute_result"
    }
   ],
   "source": [
    "from IPython.display import Image\n",
    "Image(filename='result/accuracy.png')"
   ]
  },
  {
   "cell_type": "markdown",
   "metadata": {
    "colab_type": "text",
    "id": "pekgpOfgZY2u"
   },
   "source": [
    "学習ができたら、できたモデルを使って予測をしてみます。\n",
    "まず、できたモデルを保存します。"
   ]
  },
  {
   "cell_type": "code",
   "execution_count": 0,
   "metadata": {
    "colab": {
     "base_uri": "https://localhost:8080/",
     "height": 34
    },
    "colab_type": "code",
    "id": "qC1E50tQp5tD",
    "outputId": "ecaa6f1e-0391-4941-932a-6c557cea74aa"
   },
   "outputs": [
    {
     "name": "stdout",
     "output_type": "stream",
     "text": [
      "-rw-r--r-- 1 root root 3071876 Jan 11 00:54 ./my_model.npz\n"
     ]
    }
   ],
   "source": [
    "from chainer import serializers\n",
    "\n",
    "serializers.save_npz('my_model.npz', model)\n",
    "\n",
    "# ちゃんと保存されていることを確認\n",
    "%ls -la ./my_model.npz"
   ]
  },
  {
   "cell_type": "markdown",
   "metadata": {
    "colab_type": "text",
    "id": "o4vkSSwjZY2y"
   },
   "source": [
    "次に、保存されたモデルを読み込んで予測させてみます。"
   ]
  },
  {
   "cell_type": "code",
   "execution_count": 0,
   "metadata": {
    "colab": {},
    "colab_type": "code",
    "id": "aD0PuDDPqJDX"
   },
   "outputs": [],
   "source": [
    "# まず同じモデルのオブジェクトを作る\n",
    "infer_model = MLP(n_out=n_classes)\n",
    "\n",
    "# そのオブジェクトに保存済みパラメータをロードする\n",
    "serializers.load_npz('my_model.npz', infer_model)\n",
    "\n",
    "# GPU上で計算させるために、モデルをGPUに送る\n",
    "if gpu_id >= 0:\n",
    "    infer_model.to_gpu(gpu_id)"
   ]
  },
  {
   "cell_type": "code",
   "execution_count": 0,
   "metadata": {
    "colab": {
     "base_uri": "https://localhost:8080/",
     "height": 69
    },
    "colab_type": "code",
    "id": "vxutJSPRqT3P",
    "outputId": "305cb7cd-4eac-4e74-8de0-3e7e1848ace8"
   },
   "outputs": [
    {
     "name": "stdout",
     "output_type": "stream",
     "text": [
      "(2, 64, 64) -> (1, 2, 64, 64)\n",
      "predicted label: 8\n",
      "ground truth: 8\n"
     ]
    }
   ],
   "source": [
    "from chainer.cuda import to_gpu, to_cpu\n",
    "\n",
    "# ミニバッチの形にする（ここではサイズ1のミニバッチにするが、\n",
    "# 複数まとめてサイズnのミニバッチにしてまとめて推論することもできる）\n",
    "x_val, y_val = val_dataset[0]\n",
    "print(x_val.shape, end=' -> ')\n",
    "x_val = x_val[None, ...]\n",
    "print(x_val.shape)\n",
    "\n",
    "# GPU上で計算させるため、データもGPU上に送る\n",
    "if gpu_id >= 0:\n",
    "    xx_val= to_gpu(x_val, 0)\n",
    "\n",
    "# モデルのforward関数に渡す\n",
    "with chainer.using_config('train', False), chainer.using_config('enable_backprop', False):\n",
    "    pred_y = infer_model(x_val)\n",
    "\n",
    "# Variable形式で出てくるので中身を取り出す\n",
    "pred_y = pred_y.data\n",
    "\n",
    "# 結果をCPUに送る\n",
    "pred_y = to_cpu(pred_y)\n",
    "\n",
    "# 最大値のインデックスを見る\n",
    "pred_label = pred_y.argmax(axis=1)\n",
    "\n",
    "print('predicted label:', pred_label[0])\n",
    "print('ground truth:', y_val)"
   ]
  },
  {
   "cell_type": "markdown",
   "metadata": {
    "colab_type": "text",
    "id": "fB7YWd010TIJ"
   },
   "source": [
    "## 応用編：精度の高い学習を目指して改良\n",
    "\n",
    "まずは今回のデータを使ってChainerで簡単なモデルを学習しました。\n",
    "結果からわかるとおり、精度としては非常に低いため、まだまだ改良が必要です。\n",
    "ここからはこのデータセットに合わせていろいろ改良を加えて精度を上げていくことを目指します。\n",
    "ここでは以下の4つのことを行い精度を上げてみます。\n",
    "\n",
    "1. data augmentation\n",
    "2. より大きなモデルの利用\n",
    "3. loss関数の変更\n",
    "4. Adamのalphaのスケジューリング\n",
    "\n",
    "まず、Chainerの画像処理部分に特化した関数を用意しているChainerCVをインストールします。"
   ]
  },
  {
   "cell_type": "code",
   "execution_count": 0,
   "metadata": {
    "colab": {
     "base_uri": "https://localhost:8080/",
     "height": 314
    },
    "colab_type": "code",
    "id": "AouilLCE0Ss1",
    "outputId": "235f41a7-f107-4f19-a794-b88b0313ad9c"
   },
   "outputs": [
    {
     "name": "stdout",
     "output_type": "stream",
     "text": [
      "Collecting chainercv\n",
      "\u001b[?25l  Downloading https://files.pythonhosted.org/packages/bb/1c/cee12630628d0acd4d6c5d7a3ba196a3aa079a863baa3dc74eb70d8494c5/chainercv-0.11.0.tar.gz (223kB)\n",
      "\r",
      "\u001b[K    4% |█▌                              | 10kB 19.1MB/s eta 0:00:01\r",
      "\u001b[K    9% |███                             | 20kB 5.1MB/s eta 0:00:01\r",
      "\u001b[K    13% |████▍                           | 30kB 7.2MB/s eta 0:00:01\r",
      "\u001b[K    18% |█████▉                          | 40kB 4.5MB/s eta 0:00:01\r",
      "\u001b[K    22% |███████▍                        | 51kB 5.5MB/s eta 0:00:01\r",
      "\u001b[K    27% |████████▉                       | 61kB 6.5MB/s eta 0:00:01\r",
      "\u001b[K    32% |██████████▎                     | 71kB 7.4MB/s eta 0:00:01\r",
      "\u001b[K    36% |███████████▊                    | 81kB 8.1MB/s eta 0:00:01\r",
      "\u001b[K    41% |█████████████▏                  | 92kB 8.9MB/s eta 0:00:01\r",
      "\u001b[K    45% |██████████████▊                 | 102kB 7.2MB/s eta 0:00:01\r",
      "\u001b[K    50% |████████████████▏               | 112kB 7.4MB/s eta 0:00:01\r",
      "\u001b[K    55% |█████████████████▋              | 122kB 9.7MB/s eta 0:00:01\r",
      "\u001b[K    59% |███████████████████             | 133kB 9.6MB/s eta 0:00:01\r",
      "\u001b[K    64% |████████████████████▌           | 143kB 16.8MB/s eta 0:00:01\r",
      "\u001b[K    68% |██████████████████████          | 153kB 17.0MB/s eta 0:00:01\r",
      "\u001b[K    73% |███████████████████████▌        | 163kB 17.0MB/s eta 0:00:01\r",
      "\u001b[K    77% |█████████████████████████       | 174kB 16.9MB/s eta 0:00:01\r",
      "\u001b[K    82% |██████████████████████████▍     | 184kB 17.5MB/s eta 0:00:01\r",
      "\u001b[K    87% |████████████████████████████    | 194kB 17.6MB/s eta 0:00:01\r",
      "\u001b[K    91% |█████████████████████████████▍  | 204kB 44.2MB/s eta 0:00:01\r",
      "\u001b[K    96% |██████████████████████████████▉ | 215kB 21.6MB/s eta 0:00:01\r",
      "\u001b[K    100% |████████████████████████████████| 225kB 15.6MB/s \n",
      "\u001b[?25hRequirement already satisfied: chainer>=5.0 in /usr/local/lib/python3.6/dist-packages (from chainercv) (5.0.0)\n",
      "Requirement already satisfied: Pillow in /usr/local/lib/python3.6/dist-packages (from chainercv) (4.0.0)\n",
      "Requirement already satisfied: filelock in /usr/local/lib/python3.6/dist-packages (from chainer>=5.0->chainercv) (3.0.10)\n",
      "Requirement already satisfied: numpy>=1.9.0 in /usr/local/lib/python3.6/dist-packages (from chainer>=5.0->chainercv) (1.14.6)\n",
      "Requirement already satisfied: protobuf>=3.0.0 in /usr/local/lib/python3.6/dist-packages (from chainer>=5.0->chainercv) (3.6.1)\n",
      "Requirement already satisfied: six>=1.9.0 in /usr/local/lib/python3.6/dist-packages (from chainer>=5.0->chainercv) (1.11.0)\n",
      "Requirement already satisfied: olefile in /usr/local/lib/python3.6/dist-packages (from Pillow->chainercv) (0.46)\n",
      "Requirement already satisfied: setuptools in /usr/local/lib/python3.6/dist-packages (from protobuf>=3.0.0->chainer>=5.0->chainercv) (40.6.3)\n",
      "Building wheels for collected packages: chainercv\n",
      "  Running setup.py bdist_wheel for chainercv ... \u001b[?25l-\b \b\\\b \b|\b \b/\b \b-\b \b\\\b \b|\b \b/\b \bdone\n",
      "\u001b[?25h  Stored in directory: /root/.cache/pip/wheels/95/24/5a/1611db416857b5e092962bc22a70722315881e03970c7fa966\n",
      "Successfully built chainercv\n",
      "Installing collected packages: chainercv\n",
      "Successfully installed chainercv-0.11.0\n"
     ]
    }
   ],
   "source": [
    "!pip install chainercv"
   ]
  },
  {
   "cell_type": "markdown",
   "metadata": {
    "colab_type": "text",
    "id": "6Gc1OJsMZY3F"
   },
   "source": [
    "### データの正規化とData Augmentaion\n",
    "\n",
    "最初に画像の分布を見てわかる通り、１つの画像の画素値と画像すべての画素値の分布が大きく違うことがわかります。\n",
    "このため、何らかの正規化をしたほうが良いと考えられます。\n",
    "ここでは、論文の筆者らの実装を参考に、各画像の画素値の0.1%と99.9%の値を最小、最大とし、0-1の値に正規化します。\n",
    "\n",
    "また、これに加えて、深層学習でよく使われるdata augmentationを入れます。data augmentationは入力にランダムな変換を加えることで、データの水増しを行うことです。今回は論文の筆者らが使っていたランダムに画像の一部と取り出してくるRandom Cropを使います。\n",
    "\n",
    "trainのdataにRandom Cropを施す関係上、validation用のデータには画像の中心を取り出してくるようにします。\n",
    "このデータの正規化とData Augmentaionを行う関数として`transform_train`と`transform_val`を用意して、データにアクセスしたとき、自動的にこれらの関数が適用される`TransformDataset`を使って新しいデータセットを作ります。"
   ]
  },
  {
   "cell_type": "code",
   "execution_count": 0,
   "metadata": {
    "colab": {},
    "colab_type": "code",
    "id": "drrKIjNlZY3G"
   },
   "outputs": [],
   "source": [
    "import chainercv\n",
    "\n",
    "\n",
    "def normalize(image, min_values, max_values):\n",
    "    for c_i in range(len(min_values)): # channel毎に正規化\n",
    "        image[c_i, image[c_i] > max_values[c_i]] = max_values[c_i]\n",
    "        image[c_i] -= min_values[c_i]\n",
    "        image[c_i] /= np.float32(max_values[c_i] - min_values[c_i])\n",
    "    return image\n",
    "\n",
    "\n",
    "def transform_train(in_data):\n",
    "    image, label = in_data\n",
    "    min_values = np.percentile(image, 0.1, axis=(1,2))\n",
    "    max_values = np.percentile(image,  99.9, axis=(1,2))\n",
    "    image = normalize(image, min_values, max_values)\n",
    "    image = chainercv.transforms.random_crop(image, (60, 60))\n",
    "    return image, label\n",
    "\n",
    "\n",
    "def transform_val(in_data):\n",
    "    image, label = in_data\n",
    "    min_values = np.percentile(image, 0.1, axis=(1,2))\n",
    "    max_values = np.percentile(image,  99.9, axis=(1,2))\n",
    "    image = normalize(image, min_values, max_values)\n",
    "    image = chainercv.transforms.center_crop(image, (60, 60))\n",
    "    return image, label\n",
    "\n",
    "\n",
    "train_dataset =  MicroscopyDataset('./datasets/Chong_train_set.hdf5')\n",
    "train_dataset_wit_augmentation = chainer.datasets.TransformDataset(train_dataset, transform_train)\n",
    "val_dataset = MicroscopyDataset('./datasets/Chong_valid_set.hdf5')\n",
    "val_dataset_wit_augmentation = chainer.datasets.TransformDataset(val_dataset, transform_val)"
   ]
  },
  {
   "cell_type": "markdown",
   "metadata": {
    "colab_type": "text",
    "id": "NBLiPSxbZY3H"
   },
   "source": [
    "実際にこのデータセットを使った場合の結果を見てみます。"
   ]
  },
  {
   "cell_type": "code",
   "execution_count": 0,
   "metadata": {
    "colab": {
     "base_uri": "https://localhost:8080/",
     "height": 629
    },
    "colab_type": "code",
    "id": "E2ZgZOH4ZY3I",
    "outputId": "141b674b-d372-4579-92f0-8a2331ca6810"
   },
   "outputs": [
    {
     "name": "stdout",
     "output_type": "stream",
     "text": [
      "default\n",
      "train image[0] [[[ 9. 10. 10. ... 37. 36. 24.]\n",
      "  [ 6.  7.  9. ... 39. 26. 24.]\n",
      "  [ 6.  7.  9. ... 32. 28. 24.]\n",
      "  ...\n",
      "  [ 7.  6.  8. ...  7.  6.  7.]\n",
      "  [ 6.  6.  8. ...  6.  6.  7.]\n",
      "  [ 6.  6.  8. ...  5.  6.  6.]]\n",
      "\n",
      " [[11. 12. 14. ... 26. 19. 22.]\n",
      "  [12. 11. 13. ... 24. 22. 20.]\n",
      "  [11. 10.  9. ... 25. 23. 22.]\n",
      "  ...\n",
      "  [ 8.  7.  4. ...  7.  9.  8.]\n",
      "  [ 6.  7.  6. ...  6.  7.  7.]\n",
      "  [ 6.  7.  6. ...  5.  5.  7.]]]\n",
      "train label[0] 10\n",
      "\n",
      "wit augmentation\n",
      "train image[0] [[[0.07706387 0.0577979  0.0577979  ... 0.7128408  0.63577694 0.6165109 ]\n",
      "  [0.0577979  0.0577979  0.09632984 ... 0.7128408  0.67430884 0.42385128]\n",
      "  [0.09632984 0.0577979  0.09632984 ... 0.63577694 0.53944707 0.4623832 ]\n",
      "  ...\n",
      "  [0.07706387 0.0577979  0.07706387 ... 0.0577979  0.03853193 0.01926597]\n",
      "  [0.09632984 0.1155958  0.07706387 ... 0.0577979  0.01926597 0.03853193]\n",
      "  [0.1155958  0.03853193 0.03853193 ... 0.03853193 0.0577979  0.03853193]]\n",
      "\n",
      " [[0.2580645  0.4516129  0.38709676 ... 0.6451613  0.7096774  0.48387095]\n",
      "  [0.2580645  0.32258064 0.22580644 ... 0.58064514 0.6451613  0.58064514]\n",
      "  [0.2580645  0.2580645  0.19354838 ... 0.5483871  0.67741936 0.61290324]\n",
      "  ...\n",
      "  [0.12903225 0.16129032 0.09677419 ... 0.09677419 0.03225806 0.09677419]\n",
      "  [0.09677419 0.09677419 0.06451613 ... 0.03225806 0.         0.09677419]\n",
      "  [0.09677419 0.06451613 0.09677419 ... 0.09677419 0.06451613 0.06451613]]]\n",
      "train label[0] 10\n"
     ]
    }
   ],
   "source": [
    "image, label = train_dataset[0]\n",
    "print('default')\n",
    "print('train image[0]', image)\n",
    "print('train label[0]', label)\n",
    "print('')\n",
    "\n",
    "image, label = train_dataset_wit_augmentation[0]\n",
    "print('wit augmentation')\n",
    "print('train image[0]', image)\n",
    "print('train label[0]', label)"
   ]
  },
  {
   "cell_type": "markdown",
   "metadata": {
    "colab_type": "text",
    "id": "lSMl5OKNZY3L"
   },
   "source": [
    "### loss関数の変更\n",
    "\n",
    "最初の例では一般的なimage classificationで用いられるsoftmax cross entropyをlossとして用いました。\n",
    "ここでは、論文の実装で用いられていたsigmodi cross entorpyを使ってみます。\n",
    "これを使うにあたり、labelはone hot ベクトルにする必要があるため、以下のようなloss関数用のクラスを定義して使います。"
   ]
  },
  {
   "cell_type": "code",
   "execution_count": 0,
   "metadata": {
    "colab": {},
    "colab_type": "code",
    "id": "Mbsgq67wZY3M"
   },
   "outputs": [],
   "source": [
    "from chainer import backend\n",
    "import chainer.functions as F\n",
    "\n",
    "class LossFunction(object):\n",
    "    \n",
    "    def __init__(self):\n",
    "        self.class_one_hot = None\n",
    "    \n",
    "    def __call__(self, y, t):\n",
    "        xp = backend.get_array_module(y)\n",
    "        if self.class_one_hot is None: # one hot ベクトル用の行列を初期化\n",
    "            n_classes = y.shape[1]\n",
    "            self.class_one_hot = xp.identity(n_classes, dtype=xp.int32)                                                                                                                                                                                                                                                   \n",
    "        t_one_hot = self.class_one_hot[t] # tに対するone hotベクトルを取得\n",
    "        loss = F.sigmoid_cross_entropy(y, t_one_hot) # sigmoid cross entorpyを使用\n",
    "        return loss"
   ]
  },
  {
   "cell_type": "markdown",
   "metadata": {
    "colab_type": "text",
    "id": "AqubgZBRZY3N"
   },
   "source": [
    "### より大きなモデルの利用\n",
    "\n",
    "最初の例では学習を簡単にするために小さいモデルを使っていました。ただし、これでは高い精度が得られない場合があります。\n",
    "このため、ここでは一般的なimage classificationで用いられるモデルの一つであるResNet50を使ってみます。"
   ]
  },
  {
   "cell_type": "code",
   "execution_count": 0,
   "metadata": {
    "colab": {},
    "colab_type": "code",
    "id": "e5qld7Vb0u7M"
   },
   "outputs": [],
   "source": [
    "import chainer.links as L\n",
    "from chainercv.links import ResNet50\n",
    "\n",
    "model = ResNet50(n_class=n_classes)\n",
    "classifier = L.Classifier(model, lossfun=LossFunction()) # loss関数を定義したものに置き換える\n",
    "if gpu_id >= 0:\n",
    "    classifier.to_gpu(gpu_id)"
   ]
  },
  {
   "cell_type": "code",
   "execution_count": 0,
   "metadata": {
    "colab": {},
    "colab_type": "code",
    "id": "b9_6zdkRZY3T"
   },
   "outputs": [],
   "source": [
    "from chainer import iterators\n",
    "\n",
    "batchsize = 128\n",
    "train_iter = iterators.SerialIterator(train_dataset_wit_augmentation, batchsize)\n",
    "val_iter = iterators.SerialIterator(val_dataset_wit_augmentation, batchsize,\n",
    "                                     repeat=False, shuffle=False)"
   ]
  },
  {
   "cell_type": "code",
   "execution_count": 0,
   "metadata": {
    "colab": {
     "base_uri": "https://localhost:8080/",
     "height": 34
    },
    "colab_type": "code",
    "id": "doz2Bo5J1CZw",
    "outputId": "df967ece-144f-43b6-9d55-f0e07a51da46"
   },
   "outputs": [
    {
     "data": {
      "text/plain": [
       "<chainer.optimizers.adam.Adam at 0x7f2fa00bf780>"
      ]
     },
     "execution_count": 35,
     "metadata": {
      "tags": []
     },
     "output_type": "execute_result"
    }
   ],
   "source": [
    "from chainer import optimizers\n",
    "\n",
    "optimizer = optimizers.Adam()\n",
    "optimizer.setup(classifier)"
   ]
  },
  {
   "cell_type": "code",
   "execution_count": 0,
   "metadata": {
    "colab": {},
    "colab_type": "code",
    "id": "8zxi9fplZY3f"
   },
   "outputs": [],
   "source": [
    "from chainer import training\n",
    "from chainer.training import extensions\n",
    "\n",
    "# Set up a trainer\n",
    "updater = training.updaters.StandardUpdater(\n",
    "    train_iter, optimizer, device=gpu_id)\n",
    "trainer = training.Trainer(updater, (20, 'epoch'), out='result')\n",
    "\n",
    "# Evaluate the model with the test dataset for each epoch\n",
    "trainer.extend(extensions.Evaluator(val_iter, classifier, device=gpu_id))\n",
    "\n",
    "# Dump a computational graph from 'loss' variable at the first iteration\n",
    "# The \"main\" refers to the target link of the \"main\" optimizer.\n",
    "trainer.extend(extensions.dump_graph('main/loss'))\n",
    "\n",
    "# Take a snapshot for each specified epoch\n",
    "# frequency = args.epoch if args.frequency == -1 else max(1, args.frequency)\n",
    "# trainer.extend(extensions.snapshot(), trigger=(frequency, 'epoch'))\n",
    "\n",
    "# Write a log of evaluation statistics for each epoch\n",
    "trainer.extend(extensions.LogReport())\n",
    "\n",
    "# Save two plot images to the result dir\n",
    "trainer.extend(extensions.PlotReport(['main/loss', 'validation/main/loss'], 'epoch', file_name='loss.png'))\n",
    "trainer.extend(extensions.PlotReport(['main/accuracy', 'validation/main/accuracy'], 'epoch', file_name='accuracy.png'))\n",
    "\n",
    "# Print selected entries of the log to stdout\n",
    "# Here \"main\" refers to the target link of the \"main\" optimizer again, and\n",
    "# \"validation\" refers to the default name of the Evaluator extension.\n",
    "# Entries other than 'epoch' are reported by the Classifier link, called by\n",
    "# either the updater or the evaluator.\n",
    "trainer.extend(extensions.PrintReport(\n",
    "    ['epoch', 'main/loss', 'validation/main/loss',\n",
    "     'main/accuracy', 'validation/main/accuracy', 'elapsed_time', 'lr']))\n",
    "\n",
    "# Print a progress bar to stdout\n",
    "trainer.extend(extensions.ProgressBar())"
   ]
  },
  {
   "cell_type": "markdown",
   "metadata": {
    "colab_type": "text",
    "id": "yyTRAYOsZY3i"
   },
   "source": [
    "### Adamのalphaのスケジューリング\n",
    "\n",
    "最初の例では`alpha`は変更せずにそのまま使っていましたが、論文の実装と同様にAdamのパラメータの一つである `alpha` を徐々に小さくさせていきます。ここでは25 iterationごとに0.96をかけていくことで`alpha` を徐々に小さくしていきます。"
   ]
  },
  {
   "cell_type": "code",
   "execution_count": 0,
   "metadata": {
    "colab": {},
    "colab_type": "code",
    "id": "QuaDzjQd1F2v"
   },
   "outputs": [],
   "source": [
    "from chainer import training\n",
    "from chainer.training import extensions\n",
    "\n",
    "\n",
    "trainer.extend(extensions.ExponentialShift('alpha', 0.96, init=None, target=None, optimizer=None), trigger=(25, 'iteration'))\n",
    "trainer.extend(extensions.observe_lr(observation_key='lr'))"
   ]
  },
  {
   "cell_type": "code",
   "execution_count": 0,
   "metadata": {
    "colab": {},
    "colab_type": "code",
    "id": "ocYopzfGZY3n"
   },
   "outputs": [],
   "source": [
    "trainer.run()"
   ]
  },
  {
   "cell_type": "markdown",
   "metadata": {
    "colab_type": "text",
    "id": "c7MMnnETZY3u"
   },
   "source": [
    "４つの変更を加えたことで、最初の例のときよりも高い精度に到達できました。"
   ]
  }
 ],
 "metadata": {
  "accelerator": "GPU",
  "colab": {
   "collapsed_sections": [],
   "name": "training_microscopy_data_classifier.ipynb のコピー",
   "provenance": [],
   "version": "0.3.2"
  },
  "kernelspec": {
   "display_name": "Python 3",
   "language": "python",
   "name": "python3"
  },
  "language_info": {
   "codemirror_mode": {
    "name": "ipython",
    "version": 3
   },
   "file_extension": ".py",
   "mimetype": "text/x-python",
   "name": "python",
   "nbconvert_exporter": "python",
   "pygments_lexer": "ipython3",
   "version": "3.7.1"
  }
 },
 "nbformat": 4,
 "nbformat_minor": 1
}
